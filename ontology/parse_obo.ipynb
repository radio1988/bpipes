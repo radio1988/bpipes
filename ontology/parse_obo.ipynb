{
 "cells": [
  {
   "cell_type": "code",
   "execution_count": 1,
   "metadata": {},
   "outputs": [],
   "source": [
    "import pronto"
   ]
  },
  {
   "cell_type": "code",
   "execution_count": 6,
   "metadata": {},
   "outputs": [],
   "source": [
    "ont = pronto.Ontology('./gene_ontology.WS269.obo')"
   ]
  },
  {
   "cell_type": "code",
   "execution_count": 19,
   "metadata": {},
   "outputs": [
    {
     "data": {
      "text/plain": [
       "['__abstractmethods__',\n",
       " '__class__',\n",
       " '__contains__',\n",
       " '__delattr__',\n",
       " '__dir__',\n",
       " '__doc__',\n",
       " '__eq__',\n",
       " '__format__',\n",
       " '__ge__',\n",
       " '__getattribute__',\n",
       " '__getitem__',\n",
       " '__getstate__',\n",
       " '__gt__',\n",
       " '__hash__',\n",
       " '__init__',\n",
       " '__iter__',\n",
       " '__le__',\n",
       " '__len__',\n",
       " '__lt__',\n",
       " '__module__',\n",
       " '__ne__',\n",
       " '__new__',\n",
       " '__reduce__',\n",
       " '__reduce_ex__',\n",
       " '__repr__',\n",
       " '__setattr__',\n",
       " '__setstate__',\n",
       " '__sizeof__',\n",
       " '__slots__',\n",
       " '__str__',\n",
       " '__subclasshook__',\n",
       " '_abc_cache',\n",
       " '_abc_negative_cache',\n",
       " '_abc_negative_cache_version',\n",
       " '_abc_registry',\n",
       " '_empty_cache',\n",
       " '_get_handle',\n",
       " '_get_parsers',\n",
       " '_include_term',\n",
       " '_include_term_list',\n",
       " '_obo_meta',\n",
       " '_parsed_by',\n",
       " 'adopt',\n",
       " 'get',\n",
       " 'imports',\n",
       " 'include',\n",
       " 'items',\n",
       " 'json',\n",
       " 'keys',\n",
       " 'merge',\n",
       " 'meta',\n",
       " 'obo',\n",
       " 'parse',\n",
       " 'path',\n",
       " 'reference',\n",
       " 'resolve_imports',\n",
       " 'terms',\n",
       " 'typedefs',\n",
       " 'values']"
      ]
     },
     "execution_count": 19,
     "metadata": {},
     "output_type": "execute_result"
    }
   ],
   "source": [
    "dir(ont)"
   ]
  },
  {
   "cell_type": "code",
   "execution_count": 40,
   "metadata": {},
   "outputs": [
    {
     "data": {
      "text/plain": [
       "<GO:0006119: oxidative phosphorylation>"
      ]
     },
     "execution_count": 40,
     "metadata": {},
     "output_type": "execute_result"
    }
   ],
   "source": [
    "term = ont['GO:0006119']\n",
    "term"
   ]
  },
  {
   "cell_type": "code",
   "execution_count": 41,
   "metadata": {},
   "outputs": [
    {
     "data": {
      "text/plain": [
       "['GO:0042776',\n",
       " 'GO:0015986',\n",
       " 'GO:0042773',\n",
       " 'GO:0042777',\n",
       " 'GO:0042774',\n",
       " 'GO:0042775',\n",
       " 'GO:0030965',\n",
       " 'GO:0006120',\n",
       " 'GO:0006121',\n",
       " 'GO:0006122',\n",
       " 'GO:0006123']"
      ]
     },
     "execution_count": 41,
     "metadata": {},
     "output_type": "execute_result"
    }
   ],
   "source": [
    "children = ont['GO:0006119'].rchildren().id\n",
    "children"
   ]
  },
  {
   "cell_type": "code",
   "execution_count": 42,
   "metadata": {},
   "outputs": [
    {
     "data": {
      "text/plain": [
       "'/Users/rui/Dropbox (UMass Medical School)/mccb/cole_hanyes/Tomer/PortJamming/4.BatchGSEA/wormbase/final'"
      ]
     },
     "execution_count": 42,
     "metadata": {},
     "output_type": "execute_result"
    }
   ],
   "source": [
    "pwd"
   ]
  },
  {
   "cell_type": "code",
   "execution_count": 43,
   "metadata": {},
   "outputs": [
    {
     "data": {
      "text/plain": [
       "Ontology(\"./gene_ontology.WS269.obo\")"
      ]
     },
     "execution_count": 43,
     "metadata": {},
     "output_type": "execute_result"
    }
   ],
   "source": [
    "ont"
   ]
  },
  {
   "cell_type": "code",
   "execution_count": 44,
   "metadata": {},
   "outputs": [
    {
     "data": {
      "text/plain": [
       "[<GO:0042776: mitochondrial ATP synthesis coupled proton transport>,\n",
       " <GO:0015986: ATP synthesis coupled proton transport>,\n",
       " <GO:0042773: ATP synthesis coupled electron transport>,\n",
       " <GO:0042777: plasma membrane ATP synthesis coupled proton transport>,\n",
       " <GO:0042774: plasma membrane ATP synthesis coupled electron transport>,\n",
       " <GO:0042775: mitochondrial ATP synthesis coupled electron transport>,\n",
       " <GO:0030965: plasma membrane electron transport, NADH to quinone>,\n",
       " <GO:0006120: mitochondrial electron transport, NADH to ubiquinone>,\n",
       " <GO:0006121: mitochondrial electron transport, succinate to ubiquinone>,\n",
       " <GO:0006122: mitochondrial electron transport, ubiquinol to cytochrome c>,\n",
       " <GO:0006123: mitochondrial electron transport, cytochrome c to oxygen>]"
      ]
     },
     "execution_count": 44,
     "metadata": {},
     "output_type": "execute_result"
    }
   ],
   "source": [
    "ont['GO:0006119'].rchildren()"
   ]
  },
  {
   "cell_type": "code",
   "execution_count": null,
   "metadata": {},
   "outputs": [],
   "source": []
  }
 ],
 "metadata": {
  "kernelspec": {
   "display_name": "py35",
   "language": "python",
   "name": "py35"
  },
  "language_info": {
   "codemirror_mode": {
    "name": "ipython",
    "version": 3
   },
   "file_extension": ".py",
   "mimetype": "text/x-python",
   "name": "python",
   "nbconvert_exporter": "python",
   "pygments_lexer": "ipython3",
   "version": "3.5.5"
  }
 },
 "nbformat": 4,
 "nbformat_minor": 2
}
