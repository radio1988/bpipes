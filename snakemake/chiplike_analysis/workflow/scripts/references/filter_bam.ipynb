{
 "cells": [
  {
   "cell_type": "code",
   "execution_count": 1,
   "metadata": {},
   "outputs": [
    {
     "name": "stdout",
     "output_type": "stream",
     "text": [
      "usage: python filter_bam.py <sample.bam> <genome.fa> <motif>\n",
      "example: python filter_bam.py markDup/L7_S2.bam hg38.primary.fa GATC\n"
     ]
    }
   ],
   "source": [
    "import pysam\n",
    "from Bio import SeqIO\n",
    "print(\"usage: python filter_bam.py <sample.bam> <genome.fa> <motif>\")\n",
    "print(\"example: python filter_bam.py markDup/L7_S2.bam hg38.primary.fa GATC\")"
   ]
  },
  {
   "cell_type": "code",
   "execution_count": 2,
   "metadata": {},
   "outputs": [],
   "source": [
    "# read genome fasta\n",
    "genome_dict = {rec.id : rec.seq for rec in SeqIO.parse(\"hg38.primary.fa\", \"fasta\")}\n",
    "#chrom = str(seq_dict['chr1'])"
   ]
  },
  {
   "cell_type": "code",
   "execution_count": 5,
   "metadata": {},
   "outputs": [
    {
     "name": "stdout",
     "output_type": "stream",
     "text": [
      "n1 =  57003 , n2 =  16220 n2/n1 0.28454642738101504\n"
     ]
    }
   ],
   "source": [
    "rawbam = pysam.AlignmentFile(\"markDup/test.L7.bam\", \"rb\")\n",
    "fltbam =  pysam.AlignmentFile(\"filtered_bam/test.L7.bam\", \"wb\", template=rawbam)\n",
    "\n",
    "def contain_motif(motif=\"GATC\", seq=\"AcTggatc\"):\n",
    "    motif = motif.upper()\n",
    "    seq = seq.upper()\n",
    "    if motif in seq:\n",
    "        return True\n",
    "    else:\n",
    "        return False    \n",
    "\n",
    "    \n",
    "# go through rawbam, filter, then output fltbam\n",
    "iter = rawbam.fetch()\n",
    "n1 = 0\n",
    "n2 = 0\n",
    "for x in iter:\n",
    "    if x.is_secondary:\n",
    "        continue\n",
    "    if x.is_unmapped:\n",
    "        continue\n",
    "    if x.mapping_quality < 20:\n",
    "        continue\n",
    "    n1 += 1\n",
    "    \n",
    "    chrom = genome_dict[x.reference_name]\n",
    "    if x.is_reverse:\n",
    "        pos = x.reference_end\n",
    "        seq = chrom[pos-20:pos+21] # RC same as Seq for DpnII\n",
    "    else:\n",
    "        pos = x.reference_start\n",
    "        seq = chrom[pos-21:pos+20]\n",
    "    \n",
    "    if contain_motif(\"GATC\", seq):\n",
    "        n2 += 1\n",
    "        fltbam.write(x)  \n",
    "\n",
    "print(\"n1 = \", n1, \", n2 = \", n2, \"n2/n1\", n2/n1)\n",
    "rawbam.close()\n",
    "fltbam.close()"
   ]
  },
  {
   "cell_type": "code",
   "execution_count": null,
   "metadata": {},
   "outputs": [],
   "source": []
  }
 ],
 "metadata": {
  "kernelspec": {
   "display_name": "py36",
   "language": "python",
   "name": "py36"
  },
  "language_info": {
   "codemirror_mode": {
    "name": "ipython",
    "version": 3
   },
   "file_extension": ".py",
   "mimetype": "text/x-python",
   "name": "python",
   "nbconvert_exporter": "python",
   "pygments_lexer": "ipython3",
   "version": "3.6.10"
  }
 },
 "nbformat": 4,
 "nbformat_minor": 2
}
